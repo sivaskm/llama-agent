{
  "nbformat": 4,
  "nbformat_minor": 0,
  "metadata": {
    "colab": {
      "provenance": []
    },
    "kernelspec": {
      "name": "python3",
      "display_name": "Python 3"
    },
    "language_info": {
      "name": "python"
    }
  },
  "cells": [
    {
      "cell_type": "code",
      "execution_count": 1,
      "metadata": {
        "id": "rJQLAL00_60M"
      },
      "outputs": [],
      "source": [
        "# !pip -q install langchain-groq\n",
        "# !pip -q install -U langchain langgraph tavily-python\n",
        "# !pip -q install langchain-cohere\n",
        "# !pip -q install langchain-openai"
      ]
    },
    {
      "cell_type": "markdown",
      "source": [
        "# The goal\n",
        "\n",
        "Create Learning material\n",
        "1. Get the topic\n",
        "2. Use the topic to create keywords for a search to research info needed for creating learning material\n",
        "3. Write a draft material\n",
        "4. Review the material\n",
        "7. rewrite if needed"
      ],
      "metadata": {
        "id": "FiXW2kUZGwon"
      }
    },
    {
      "cell_type": "code",
      "source": [
        "import os\n",
        "from google.colab import userdata\n",
        "\n",
        "os.environ[\"GROQ_API_KEY\"] = userdata.get('GROQ_API_KEY')\n",
        "os.environ[\"TAVILY_API_KEY\"] = userdata.get('TAVILY_API_KEY')\n",
        "os.environ[\"LANGCHAIN_TRACING_V2\"] = \"true\"\n",
        "os.environ[\"LANGCHAIN_API_KEY\"] = userdata.get(\"LANGCHAIN_API_KEY\")\n",
        "os.environ[\"LANGCHAIN_PROJECT\"] = \"learning-assistant-llama\""
      ],
      "metadata": {
        "id": "nuKTVcj0BeR1"
      },
      "execution_count": 2,
      "outputs": []
    },
    {
      "cell_type": "code",
      "source": [
        "from langchain_groq import ChatGroq\n",
        "\n",
        "GROQ_LLM = ChatGroq(model=\"llama3-70b-8192\")"
      ],
      "metadata": {
        "id": "7A3Xbu9HCviZ"
      },
      "execution_count": 3,
      "outputs": []
    },
    {
      "cell_type": "code",
      "source": [
        "from langchain_core.prompts import ChatPromptTemplate\n",
        "from langchain.prompts import PromptTemplate\n",
        "\n",
        "from langchain_core.output_parsers import StrOutputParser\n",
        "from langchain_core.output_parsers import JsonOutputParser"
      ],
      "metadata": {
        "id": "oE0X9On0C7fR"
      },
      "execution_count": 4,
      "outputs": []
    },
    {
      "cell_type": "code",
      "source": [
        "def write_markdown_file(content, filename):\n",
        "  \"\"\"Writes the given content as a markdown file to the local directory.\n",
        "\n",
        "  Args:\n",
        "    content: The string content to write to the file.\n",
        "    filename: The filename to save the file as.\n",
        "  \"\"\"\n",
        "  with open(f\"{filename}.md\", \"w\") as f:\n",
        "    f.write(content)\n"
      ],
      "metadata": {
        "id": "vCdZyllaC-iR"
      },
      "execution_count": 5,
      "outputs": []
    },
    {
      "cell_type": "markdown",
      "source": [
        "## Basic Chains\n",
        "\n",
        "1. Generate keywords/queries for research\n",
        "2. Write draft material\n",
        "3. Rewrite Router\n",
        "3. Rewrite content"
      ],
      "metadata": {
        "id": "KVQxph1nH1kB"
      }
    },
    {
      "cell_type": "code",
      "source": [
        "## Search keywords\n",
        "search_keyword_prompt = PromptTemplate(\n",
        "    template=\"\"\"<|begin_of_text|><|start_header_id|>system<|end_header_id|>\n",
        "    You are a master at working out the best keywords to search for in a web search to get the best info about the topic.\n",
        "\n",
        "    given the TOPIC, Work out the best keywords that will find the best info for helping to write a learning material about the topic.\n",
        "\n",
        "    Return a JSON with a single key 'keywords' with no more than 2 keywords and no premable or explaination.\n",
        "\n",
        "    <|eot_id|><|start_header_id|>user<|end_header_id|>\n",
        "    TOPIC: {topic} \\n\n",
        "    <|eot_id|><|start_header_id|>assistant<|end_header_id|>\"\"\",\n",
        "    input_variables=[\"topic\"],\n",
        ")\n",
        "\n",
        "search_keyword_chain = search_keyword_prompt | GROQ_LLM | JsonOutputParser()\n",
        "\n",
        "# print(search_keyword_chain.invoke({\"topic\": \"LLM\"}))"
      ],
      "metadata": {
        "id": "W0vqZjrDHzEm"
      },
      "execution_count": 6,
      "outputs": []
    },
    {
      "cell_type": "code",
      "source": [
        "## Write Draft Email\n",
        "draft_writer_prompt = PromptTemplate(\n",
        "    template=\"\"\"<|begin_of_text|><|start_header_id|>system<|end_header_id|>\n",
        "    You are a master at creating detailed learning material for a given TOPIC based on the RESEARCH INFOFMATION.\n",
        "    Write a detailed learning material.\n",
        "    You never make up information that hasn't been provided in RESEARCH INFOFMATION.\n",
        "\n",
        "    <|eot_id|><|start_header_id|>user<|end_header_id|>\n",
        "    TOPIC: {topic} \\n\n",
        "    RESEARCH INFORMATION: {research_info} \\n\n",
        "    <|eot_id|><|start_header_id|>assistant<|end_header_id|>\"\"\",\n",
        "    input_variables=[\"topic\", \"research_info\"],\n",
        ")\n",
        "\n",
        "draft_writer_chain = draft_writer_prompt | GROQ_LLM | StrOutputParser()\n",
        "\n",
        "# content = \"\"\"\n",
        "# Algorithmic bias describes systematic and repeatable errors in a computer system that create \"unfair\" outcomes, such as \"privileging\" one category over another in ways different from the intended function of the algorithm.\n",
        "# Bias can emerge from many factors, including but not limited to the design of the algorithm or the unintended or unanticipated use or decisions relating to the way data is coded, collected, selected or used to train the algorithm. For example, algorithmic bias has been observed in search engine results and social media platforms. This bias can have impacts ranging from inadvertent privacy violations to reinforcing social biases of race, gender, sexuality, and ethnicity. The study of algorithmic bias is most concerned with algorithms that reflect \"systematic and unfair\" discrimination. This bias has only recently been addressed in legal frameworks, such as the European Union's General Data Protection Regulation (2018) and the proposed Artificial Intelligence Act (2021).\n",
        "# As algorithms expand their ability to organize society, politics, institutions, and behavior, sociologists have become concerned with the ways in which unanticipated output and manipulation of data can impact the physical world. Because algorithms are often considered to be neutral and unbiased, they can inaccurately project greater authority than human expertise (in part due to the psychological phenomenon of automation bias), and in some cases, reliance on algorithms can displace human responsibility for their outcomes. Bias can enter into algorithmic systems as a result of pre-existing cultural, social, or institutional expectations; by how features and labels are chosen; because of technical limitations of their design; or by being used in unanticipated contexts or by audiences who are not considered in the software's initial design.[2]\n",
        "# Algorithmic bias has been cited in cases ranging from election outcomes to the spread of online hate speech. It has also arisen in criminal justice, healthcare, and hiring, compounding existing racial, socioeconomic, and gender biases. The relative inability of facial recognition technology to accurately identify darker-skinned faces has been linked to multiple wrongful arrests of black men, an issue stemming from imbalanced datasets. Problems in understanding, researching, and discovering algorithmic bias persist due to the proprietary nature of algorithms, which are typically treated as trade secrets. Even when full transparency is provided, the complexity of certain algorithms poses a barrier to understanding their functioning. Furthermore, algorithms may change, or respond to input or output in ways that cannot be anticipated or easily reproduced for analysis. In many cases, even within a single website or application, there is no single \"algorithm\" to examine, but a network of many interrelated programs and data inputs, even between users of the same service.\n",
        "# \"\"\"\n",
        "\n",
        "# output = draft_writer_chain.invoke({\"topic\": \"Algorithmic bias\", \"research_info\": content})\n",
        "# print(output)"
      ],
      "metadata": {
        "id": "VzDLJdb_PXcr"
      },
      "execution_count": 7,
      "outputs": []
    },
    {
      "cell_type": "code",
      "source": [
        "## Rewrite Router\n",
        "rewrite_router_prompt = PromptTemplate(\n",
        "    template=\"\"\"<|begin_of_text|><|start_header_id|>system<|end_header_id|>\n",
        "    You are an expert at evaluating the learning material and deciding if they need to be rewritten or not.\n",
        "    Criteria for the proper learning material: It should have all the sections mentioned here.\n",
        "    1. Introduction\n",
        "    2. Main Content\n",
        "    3. Conclusion\n",
        "    4. Points to Remember\n",
        "    5. Quiz/Test\n",
        "    6. Assignment\n",
        "\n",
        "    Read the given learning material line by line and verify if all the given sections are present.\n",
        "    I have to rewrite the learning material even if any one of the above section is not present.\n",
        "    Give a binary choice 'rewrite' (for needs to be rewritten) or 'no_rewrite' (for doesn't need to be rewritten) based on the the criteria.\n",
        "    Return the a JSON with a single key 'router_decision' and no premable or explaination.\n",
        "    <|eot_id|><|start_header_id|>user<|end_header_id|>\n",
        "    TOPIC: {topic} \\n\n",
        "    LEARNING MATERIAL: {learning_material} \\n\n",
        "    <|eot_id|><|start_header_id|>assistant<|end_header_id|>\"\"\",\n",
        "    input_variables=[\"topic\",\"learning_material\"],\n",
        ")\n",
        "\n",
        "rewrite_router = rewrite_router_prompt | GROQ_LLM | JsonOutputParser()\n",
        "\n",
        "# topic = 'Algorithmic bias'\n",
        "\n",
        "# print(rewrite_router.invoke({\"topic\": topic, \"learning_material\":output}))"
      ],
      "metadata": {
        "id": "6Cg29F-xXU2_"
      },
      "execution_count": 8,
      "outputs": []
    },
    {
      "cell_type": "code",
      "source": [
        "## Draft Email Analysis\n",
        "from pprint import pprint\n",
        "draft_analysis_prompt = PromptTemplate(\n",
        "    template=\"\"\"<|begin_of_text|><|start_header_id|>system<|end_header_id|>\n",
        "    You are the Quality Control Agent. Review the provided LEARNING MATERIAL.\n",
        "    Proper learning material should have these sections.\n",
        "    1. Introduction\n",
        "    2. Main Content\n",
        "    3. Conclusion\n",
        "    4. Points to Remember\n",
        "    5. Quiz/Test\n",
        "    6. Assignment\n",
        "    Check if the given learning material has all the given sections.\n",
        "\n",
        "    Give feedback of how the learning material can be improved and what specific things can be added or change\\\n",
        "    to make the learning material more effective.\n",
        "\n",
        "    <|eot_id|><|start_header_id|>user<|end_header_id|>\n",
        "    TOPIC: {topic} \\n\\n\n",
        "    LEARNING MATERIAL: {draft_material} \\n\\n\n",
        "    <|eot_id|><|start_header_id|>assistant<|end_header_id|>\"\"\",\n",
        "    input_variables=[\"topic\",\"draft_material\"],\n",
        ")\n",
        "\n",
        "draft_analysis_chain = draft_analysis_prompt | GROQ_LLM | StrOutputParser()\n",
        "\n",
        "# feedback = draft_analysis_chain.invoke({\n",
        "#     \"topic\": \"Algorthmic Bias\",\n",
        "#     \"learning_material\": output\n",
        "# })"
      ],
      "metadata": {
        "id": "et00ScIneBaA"
      },
      "execution_count": 9,
      "outputs": []
    },
    {
      "cell_type": "code",
      "source": [
        "# Rewrite Email with Analysis\n",
        "rewrite_email_prompt = PromptTemplate(\n",
        "    template=\"\"\"<|begin_of_text|><|start_header_id|>system<|end_header_id|>\n",
        "    You are the Final Learning Material agent. Read the DRAFT LEARNING MATERIAL FEEDBACK below from the QC Agent \\\n",
        "    and use it to rewrite and improve the DRAFT LEARNING MATERIAL to create a final one.\n",
        "\n",
        "    You never make up or add information that hasn't been provided by the RESEARCH INFORMATION or in DRAFT LEARNING MATERIAL.\n",
        "\n",
        "    <|eot_id|><|start_header_id|>user<|end_header_id|>\n",
        "    TOPIC: {topic} \\n\\n\n",
        "    RESEARCH INFORMATION : {research_info} \\n\\n\n",
        "    DRAFT LEARNING MATERIAL: {draft_material} \\n\\n\n",
        "    DRAFT LEARNING MATERIAL FEEDBACK: {draft_material_feedback} \\n\\n\n",
        "    <|eot_id|><|start_header_id|>assistant<|end_header_id|>\"\"\",\n",
        "    input_variables=[\"topic\",\n",
        "                     \"research_info\",\n",
        "                     \"draft_material_feedback\",\n",
        "                     \"draft_material\",\n",
        "                     ],\n",
        ")\n",
        "\n",
        "rewrite_chain = rewrite_email_prompt | GROQ_LLM | StrOutputParser()\n",
        "\n",
        "# final_material = rewrite_chain.invoke({\"topic\": \"Algorithmic Bias\",\n",
        "#                                  \"draft_analysis\":feedback,\n",
        "#                                  \"research_info\":content,\n",
        "#                                  \"initial_material\": output})\n",
        "\n",
        "# print(final_material)"
      ],
      "metadata": {
        "id": "cQ06ZhD0hlHr"
      },
      "execution_count": 10,
      "outputs": []
    },
    {
      "cell_type": "markdown",
      "source": [
        "## Tools Setup"
      ],
      "metadata": {
        "id": "2Vxeif2Il_5x"
      }
    },
    {
      "cell_type": "code",
      "source": [
        "from langchain_community.tools.tavily_search import TavilySearchResults\n",
        "\n",
        "web_search_tool = TavilySearchResults(k=1)"
      ],
      "metadata": {
        "id": "kwU2UcvMlV3-"
      },
      "execution_count": 11,
      "outputs": []
    },
    {
      "cell_type": "markdown",
      "source": [
        "## State"
      ],
      "metadata": {
        "id": "gvFf_HYNmEIc"
      }
    },
    {
      "cell_type": "code",
      "source": [
        "from langchain.schema import Document\n",
        "from langgraph.graph import END, StateGraph\n",
        "\n",
        "from typing_extensions import TypedDict\n",
        "from typing import List\n",
        "\n",
        "### State\n",
        "\n",
        "class GraphState(TypedDict):\n",
        "    topic: str\n",
        "    draft_material : str\n",
        "    final_material : str\n",
        "    research_info : List[str]\n",
        "    num_steps : int\n",
        "    draft_material_feedback : dict"
      ],
      "metadata": {
        "id": "aQC6HYJSmCL2"
      },
      "execution_count": 12,
      "outputs": []
    },
    {
      "cell_type": "code",
      "source": [
        "\n",
        "def research_info_search(state):\n",
        "\n",
        "    print(\"---RESEARCH INFO SEARCHING---\")\n",
        "    topic = state[\"topic\"]\n",
        "    num_steps = state['num_steps']\n",
        "    num_steps += 1\n",
        "\n",
        "    keywords = search_keyword_chain.invoke({\"topic\": topic})\n",
        "    keywords = keywords['keywords']\n",
        "    # keywords.append(topic)\n",
        "    full_searches = []\n",
        "    for keyword in keywords:\n",
        "        print(\"keyword:\", keyword)\n",
        "        temp_docs = web_search_tool.invoke({\"query\": keyword})\n",
        "        web_results = \"\\n\".join([d[\"content\"] for d in temp_docs])\n",
        "        web_results = Document(page_content=web_results)\n",
        "        if full_searches is not None:\n",
        "            full_searches.append(web_results)\n",
        "        else:\n",
        "            full_searches = [web_results]\n",
        "    print(\"RESEARCH INFO: \", full_searches)\n",
        "    return {\"research_info\": full_searches, \"num_steps\":num_steps}\n",
        "\n",
        "# HOW TO USE:\n",
        "# my_graph_state = GraphState(\n",
        "#     topic=\"Machine Learning Algorithms\",\n",
        "#     num_steps=0\n",
        "# )\n",
        "\n",
        "# r = research_info_search(my_graph_state)\n",
        "# print(r)"
      ],
      "metadata": {
        "id": "DsxpFkqvmVkA"
      },
      "execution_count": 13,
      "outputs": []
    },
    {
      "cell_type": "code",
      "source": [
        "def draft_material_writer(state):\n",
        "    print(\"---DRAFT MATERIAL WRITER---\")\n",
        "    topic = state[\"topic\"]\n",
        "    research_info = state[\"research_info\"]\n",
        "    num_steps = state['num_steps']\n",
        "    num_steps += 1\n",
        "\n",
        "    draft_material = draft_writer_chain.invoke({\"topic\": topic,\n",
        "                                     \"research_info\":research_info})\n",
        "    print(\"DRAFT MATERIAL: \", draft_material)\n",
        "\n",
        "    write_markdown_file(draft_material, \"draft_material\")\n",
        "\n",
        "    return {\"draft_material\": draft_material, \"num_steps\":num_steps}"
      ],
      "metadata": {
        "id": "020J5fhvnZei"
      },
      "execution_count": 14,
      "outputs": []
    },
    {
      "cell_type": "code",
      "source": [
        "def analyze_draft_material(state):\n",
        "    print(\"---DRAFT MATERIAL ANALYZER---\")\n",
        "    topic = state[\"topic\"]\n",
        "    draft_material = state[\"draft_material\"]\n",
        "    num_steps = state['num_steps']\n",
        "    num_steps += 1\n",
        "\n",
        "    draft_material_feedback = draft_analysis_chain.invoke({\"topic\": topic,\n",
        "                                                \"draft_material\": draft_material})\n",
        "\n",
        "    write_markdown_file(str(draft_material_feedback), \"draft_material_feedback\")\n",
        "    return {\"draft_material_feedback\": draft_material_feedback, \"num_steps\":num_steps}"
      ],
      "metadata": {
        "id": "roeoiIDJoORT"
      },
      "execution_count": 15,
      "outputs": []
    },
    {
      "cell_type": "code",
      "source": [
        "def rewrite_material(state):\n",
        "    print(\"---REWRITE MATERIAL ---\")\n",
        "    topic = state[\"topic\"]\n",
        "    research_info = state[\"research_info\"]\n",
        "    draft_material_feedback = state[\"draft_material_feedback\"]\n",
        "    draft_material = state[\"draft_material\"]\n",
        "    num_steps = state['num_steps']\n",
        "    num_steps += 1\n",
        "\n",
        "    final_material = rewrite_chain.invoke({\"topic\": topic,\n",
        "                                                \"draft_material_feedback\": draft_material_feedback,\n",
        "                                                \"research_info\":research_info,\n",
        "                                                \"draft_material\":draft_material\n",
        "                                           })\n",
        "\n",
        "    write_markdown_file(str(final_material), \"final_material\")\n",
        "    return {\"final_material\": final_material, \"num_steps\":num_steps}"
      ],
      "metadata": {
        "id": "qGN9ZsIVwAVv"
      },
      "execution_count": 16,
      "outputs": []
    },
    {
      "cell_type": "code",
      "source": [
        "def no_rewrite(state):\n",
        "    print(\"---NO REWRITE MATERIAL ---\")\n",
        "    ## Get the state\n",
        "    draft_material = state[\"draft_material\"]\n",
        "    num_steps = state['num_steps']\n",
        "    num_steps += 1\n",
        "\n",
        "    write_markdown_file(str(draft_material), \"final_material\")\n",
        "    return {\"final_email\": draft_material, \"num_steps\":num_steps}"
      ],
      "metadata": {
        "id": "v4m9Lc10xwIa"
      },
      "execution_count": 17,
      "outputs": []
    },
    {
      "cell_type": "code",
      "source": [
        "def state_printer(state):\n",
        "    \"\"\"print the state\"\"\"\n",
        "    print(\"---STATE PRINTER---\")\n",
        "    print(f\"Topic: {state['topic']} \\n\" )\n",
        "    print(f\"Draft Material: {state['draft_material']} \\n\")\n",
        "    print(f\"Final Material: {state['final_material']} \\n\" )\n",
        "    print(f\"Research Info: {state['research_info']} \\n\" )\n",
        "    print(f\"Feedback: {state['draft_material_feedback']} \\n\")\n",
        "    print(f\"Num Steps: {state['num_steps']} \\n\")\n",
        "    return"
      ],
      "metadata": {
        "id": "mqfk0_3KD5Dt"
      },
      "execution_count": 18,
      "outputs": []
    },
    {
      "cell_type": "code",
      "source": [
        "def route_to_rewrite(state):\n",
        "\n",
        "    print(\"---ROUTE TO REWRITE---\")\n",
        "    topic = state[\"topic\"]\n",
        "    draft_material = state[\"draft_material\"]\n",
        "\n",
        "    router = rewrite_router.invoke({\"topic\": topic,\n",
        "                                     \"learning_material\":draft_material})\n",
        "    print(\"ROUTER DECISION: \", router['router_decision'])\n",
        "    if router['router_decision'] == 'rewrite':\n",
        "        print(\"---ROUTE TO ANALYSIS - REWRITE---\")\n",
        "        return \"rewrite\"\n",
        "    elif router['router_decision'] == 'no_rewrite':\n",
        "        print(\"---ROUTE TO FINAL MATERIAL---\")\n",
        "        return \"no_rewrite\""
      ],
      "metadata": {
        "id": "eCtk2M7dx8FZ"
      },
      "execution_count": 19,
      "outputs": []
    },
    {
      "cell_type": "code",
      "source": [
        "\n",
        "workflow = StateGraph(GraphState)\n",
        "\n",
        "# Define the nodes\n",
        "workflow.add_node(\"research_info_search\", research_info_search) # web search\n",
        "workflow.add_node(\"draft_material_writer\", draft_material_writer)\n",
        "workflow.add_node(\"state_printer\", state_printer)\n",
        "workflow.add_node(\"analyze_draft_material\", analyze_draft_material)\n",
        "workflow.add_node(\"rewrite_material\", rewrite_material)\n",
        "workflow.add_node(\"no_rewrite\", no_rewrite)"
      ],
      "metadata": {
        "id": "XpmETme1_D0C"
      },
      "execution_count": 20,
      "outputs": []
    },
    {
      "cell_type": "code",
      "source": [
        "workflow.set_entry_point(\"research_info_search\")\n",
        "workflow.add_edge(\"research_info_search\", \"draft_material_writer\")\n",
        "\n",
        "\n",
        "workflow.add_conditional_edges(\n",
        "    \"draft_material_writer\",\n",
        "    route_to_rewrite,\n",
        "    {\n",
        "        \"rewrite\": \"analyze_draft_material\",\n",
        "        \"no_rewrite\": \"no_rewrite\",\n",
        "    },\n",
        ")\n",
        "workflow.add_edge(\"analyze_draft_material\", \"rewrite_material\")\n",
        "workflow.add_edge(\"no_rewrite\", \"state_printer\")\n",
        "workflow.add_edge(\"rewrite_material\", \"state_printer\")\n",
        "workflow.add_edge(\"state_printer\", END)"
      ],
      "metadata": {
        "id": "5FPpB0RLDdHP"
      },
      "execution_count": 21,
      "outputs": []
    },
    {
      "cell_type": "code",
      "source": [
        "# Compile\n",
        "app = workflow.compile()"
      ],
      "metadata": {
        "id": "MTE8YccrEd0e"
      },
      "execution_count": 22,
      "outputs": []
    },
    {
      "cell_type": "code",
      "source": [
        "# run the agent\n",
        "inputs = {\"topic\": \"Meta's LLAMA models\",\"research_info\": None, \"num_steps\":0}\n",
        "for output in app.stream(inputs):\n",
        "    for key, value in output.items():\n",
        "        pprint(f\"Finished running: {key}:\")"
      ],
      "metadata": {
        "colab": {
          "base_uri": "https://localhost:8080/"
        },
        "id": "QB6ik4leEgix",
        "outputId": "bc1b4a5e-5c19-4e96-b889-e353782483af"
      },
      "execution_count": 23,
      "outputs": [
        {
          "output_type": "stream",
          "name": "stdout",
          "text": [
            "---RESEARCH INFO SEARCHING---\n",
            "keyword: LLaMA AI\n",
            "keyword: Meta AI models\n",
            "RESEARCH INFO:  [Document(page_content=\"In the coming months, we expect to introduce new capabilities, longer context windows, additional model sizes, and enhanced performance, and we'll share the Llama 3 research paper. Meta AI, built with Llama 3 technology, is now one of the world's leading AI assistants that can boost your intelligence and lighten your load—helping you ...\\nA better assistant: Thanks to our latest advances with Meta Llama 3, we believe Meta AI is now the most intelligent AI assistant you can use for free - and it's available in more countries across our apps to help you plan dinner based on what's in your fridge, study for your test and so much more. More info: You can use Meta AI in feed ...\\nLlama 3 is an accessible, open-source large language model (LLM) designed for developers, researchers, and businesses to build, experiment, and responsibly scale their generative AI ideas. Part of a foundational system, it serves as a bedrock for innovation in the global community. Meta Code LlamaLLM capable of generating code, and natural ...\\nWe've integrated Llama 3 into Meta AI, our intelligent assistant, that expands the ways people can get things done, create and connect with Meta AI. You can see first-hand the performance of Llama 3 by using Meta AI for coding tasks and problem solving.Whether you're developing agents, or other AI-powered applications, Llama 3 in both 8B and ...\\nLlama 2 was pretrained on publicly available online data sources. The fine-tuned model, Llama Chat, leverages publicly available instruction datasets and over 1 million human annotations. ... while fostering an environment of discovery and ethical AI advancements. Responsible use. Like all LLMs, Llama 2 is a new technology that carries ...\"), Document(page_content=\"UPDATE: We just launched Llama 2 - for more information on the latest see our blog post on Llama 2. As part of Meta's commitment to open science, today we are publicly releasing LLaMA (Large Language Model Meta AI), a state-of-the-art foundational large language model designed to help researchers advance their work in this subfield of AI. Smaller, more performant models such as LLaMA enable ...\\nMeta Llama 3 is our most advanced model to date, capable of complex reasoning, following instructions, visualizing ideas, and solving nuanced problems. Now available with both 8B and 70B pretrained and instruct versions to support a wide range of applications. Experience Meta Llama 3 on meta.ai.\\nWe've integrated Llama 3 into Meta AI, our intelligent assistant, that expands the ways people can get things done, create and connect with Meta AI. You can see first-hand the performance of Llama 3 by using Meta AI for coding tasks and problem solving.Whether you're developing agents, or other AI-powered applications, Llama 3 in both 8B and ...\\nLarge Language Model. A look at the early impact of Meta Llama 3. April 25, 2024. It's been just one week since we put Meta Llama 3 in the hands of the developer community, and the response so far has been awesome. With the release of our initial Llama 3 models, we wanted to kickstart the next wave of innovation in AI across the stack—from ...\\nBuilt on Meta Llama 3, our most advanced model to date, Meta AI is an intelligent assistant that is capable of complex reasoning, following instructions, visualizing ideas, and solving nuanced problems. Now available within our family of apps and at meta.ai, you can learn more, imagine anything and get more things done.\")]\n",
            "'Finished running: research_info_search:'\n",
            "---DRAFT MATERIAL WRITER---\n",
            "DRAFT MATERIAL:  **Learning Material: Meta's LLAMA Models**\n",
            "\n",
            "**Overview**\n",
            "\n",
            "Meta's LLAMA models are a series of large language models (LLMs) designed to advance the field of artificial intelligence. These models are built to be accessible, open-source, and capable of generating code, as well as performing complex reasoning, following instructions, visualizing ideas, and solving nuanced problems.\n",
            "\n",
            "**History of LLAMA Models**\n",
            "\n",
            "The LLAMA model series began with the release of LLaMA, a state-of-the-art foundational large language model designed to help researchers advance their work in AI. This was followed by the release of LLaMA 2, which was fine-tuned using publicly available instruction datasets and over 1 million human annotations.\n",
            "\n",
            "**LLaMA 3: The Latest Advancements**\n",
            "\n",
            "The latest addition to the LLAMA family is LLaMA 3, which is Meta's most advanced model to date. LLaMA 3 is capable of complex reasoning, following instructions, visualizing ideas, and solving nuanced problems. It is available in both 8B and 70B pretrained and instruct versions to support a wide range of applications.\n",
            "\n",
            "**Key Features of LLaMA 3**\n",
            "\n",
            "* **Complex Reasoning**: LLaMA 3 is capable of complex reasoning, making it an ideal model for applications that require advanced problem-solving capabilities.\n",
            "* **Instruction Following**: LLaMA 3 can follow instructions, making it suitable for applications that require the model to perform specific tasks.\n",
            "* **Visualization**: LLaMA 3 can visualize ideas, making it an excellent choice for applications that require creative problem-solving.\n",
            "* **Nuanced Problem-Solving**: LLaMA 3 can solve nuanced problems, making it an ideal model for applications that require advanced critical thinking.\n",
            "\n",
            "**Applications of LLaMA 3**\n",
            "\n",
            "LLaMA 3 has a wide range of applications, including:\n",
            "\n",
            "* **Coding Tasks**: LLaMA 3 can be used for coding tasks, making it an excellent choice for developers and researchers.\n",
            "* **Problem-Solving**: LLaMA 3 can be used for problem-solving, making it suitable for applications that require advanced critical thinking.\n",
            "* **AI-Powered Applications**: LLaMA 3 can be used to build AI-powered applications, such as agents and other intelligent systems.\n",
            "\n",
            "**Meta AI: The Intelligent Assistant**\n",
            "\n",
            "LLaMA 3 has been integrated into Meta AI, an intelligent assistant that expands the ways people can get things done, create, and connect with Meta AI. Meta AI is available within Meta's family of apps and at meta.ai, allowing users to learn more, imagine anything, and get more things done.\n",
            "\n",
            "**Responsible Use**\n",
            "\n",
            "Like all LLMs, LLaMA 3 is a new technology that carries responsibilities. It is essential to use LLaMA 3 responsibly and ethically, fostering an environment of discovery and ethical AI advancements.\n",
            "\n",
            "**Conclusion**\n",
            "\n",
            "Meta's LLAMA models, particularly LLaMA 3, are powerful tools that have the potential to revolutionize the field of artificial intelligence. With their advanced capabilities and wide range of applications, these models are poised to make a significant impact in the world of AI.\n",
            "---ROUTE TO REWRITE---\n",
            "ROUTER DECISION:  rewrite\n",
            "---ROUTE TO ANALYSIS - REWRITE---\n",
            "'Finished running: draft_material_writer:'\n",
            "---DRAFT MATERIAL ANALYZER---\n",
            "'Finished running: analyze_draft_material:'\n",
            "---REWRITE MATERIAL ---\n",
            "'Finished running: rewrite_material:'\n",
            "---STATE PRINTER---\n",
            "Topic: Meta's LLAMA models \n",
            "\n",
            "Draft Material: **Learning Material: Meta's LLAMA Models**\n",
            "\n",
            "**Overview**\n",
            "\n",
            "Meta's LLAMA models are a series of large language models (LLMs) designed to advance the field of artificial intelligence. These models are built to be accessible, open-source, and capable of generating code, as well as performing complex reasoning, following instructions, visualizing ideas, and solving nuanced problems.\n",
            "\n",
            "**History of LLAMA Models**\n",
            "\n",
            "The LLAMA model series began with the release of LLaMA, a state-of-the-art foundational large language model designed to help researchers advance their work in AI. This was followed by the release of LLaMA 2, which was fine-tuned using publicly available instruction datasets and over 1 million human annotations.\n",
            "\n",
            "**LLaMA 3: The Latest Advancements**\n",
            "\n",
            "The latest addition to the LLAMA family is LLaMA 3, which is Meta's most advanced model to date. LLaMA 3 is capable of complex reasoning, following instructions, visualizing ideas, and solving nuanced problems. It is available in both 8B and 70B pretrained and instruct versions to support a wide range of applications.\n",
            "\n",
            "**Key Features of LLaMA 3**\n",
            "\n",
            "* **Complex Reasoning**: LLaMA 3 is capable of complex reasoning, making it an ideal model for applications that require advanced problem-solving capabilities.\n",
            "* **Instruction Following**: LLaMA 3 can follow instructions, making it suitable for applications that require the model to perform specific tasks.\n",
            "* **Visualization**: LLaMA 3 can visualize ideas, making it an excellent choice for applications that require creative problem-solving.\n",
            "* **Nuanced Problem-Solving**: LLaMA 3 can solve nuanced problems, making it an ideal model for applications that require advanced critical thinking.\n",
            "\n",
            "**Applications of LLaMA 3**\n",
            "\n",
            "LLaMA 3 has a wide range of applications, including:\n",
            "\n",
            "* **Coding Tasks**: LLaMA 3 can be used for coding tasks, making it an excellent choice for developers and researchers.\n",
            "* **Problem-Solving**: LLaMA 3 can be used for problem-solving, making it suitable for applications that require advanced critical thinking.\n",
            "* **AI-Powered Applications**: LLaMA 3 can be used to build AI-powered applications, such as agents and other intelligent systems.\n",
            "\n",
            "**Meta AI: The Intelligent Assistant**\n",
            "\n",
            "LLaMA 3 has been integrated into Meta AI, an intelligent assistant that expands the ways people can get things done, create, and connect with Meta AI. Meta AI is available within Meta's family of apps and at meta.ai, allowing users to learn more, imagine anything, and get more things done.\n",
            "\n",
            "**Responsible Use**\n",
            "\n",
            "Like all LLMs, LLaMA 3 is a new technology that carries responsibilities. It is essential to use LLaMA 3 responsibly and ethically, fostering an environment of discovery and ethical AI advancements.\n",
            "\n",
            "**Conclusion**\n",
            "\n",
            "Meta's LLAMA models, particularly LLaMA 3, are powerful tools that have the potential to revolutionize the field of artificial intelligence. With their advanced capabilities and wide range of applications, these models are poised to make a significant impact in the world of AI. \n",
            "\n",
            "Final Material: **Final Learning Material: Meta's LLAMA Models**\n",
            "\n",
            "**Introduction**\n",
            "\n",
            "Artificial intelligence has revolutionized the way we live and work. In recent years, large language models have emerged as a crucial component of AI research and development. Meta's LLAMA models are a series of large language models designed to advance the field of artificial intelligence. In this learning material, we will explore the history, capabilities, and applications of Meta's LLAMA models, with a focus on the latest addition, LLaMA 3.\n",
            "\n",
            "**Overview**\n",
            "\n",
            "Meta's LLAMA models are built to be accessible, open-source, and capable of generating code, as well as performing complex reasoning, following instructions, visualizing ideas, and solving nuanced problems. The LLAMA model series began with the release of LLaMA, a state-of-the-art foundational large language model designed to help researchers advance their work in AI.\n",
            "\n",
            "**History of LLAMA Models**\n",
            "\n",
            "The LLAMA model series began with the release of LLaMA, which was followed by the release of LLaMA 2. LLaMA 2 was fine-tuned using publicly available instruction datasets and over 1 million human annotations.\n",
            "\n",
            "**LLaMA 3: The Latest Advancements**\n",
            "\n",
            "The latest addition to the LLAMA family is LLaMA 3, which is Meta's most advanced model to date. LLaMA 3 is capable of complex reasoning, following instructions, visualizing ideas, and solving nuanced problems. It is available in both 8B and 70B pretrained and instruct versions to support a wide range of applications.\n",
            "\n",
            "**Key Features of LLaMA 3**\n",
            "\n",
            "* **Complex Reasoning**: LLaMA 3 is capable of complex reasoning, making it an ideal model for applications that require advanced problem-solving capabilities.\n",
            "* **Instruction Following**: LLaMA 3 can follow instructions, making it suitable for applications that require the model to perform specific tasks.\n",
            "* **Visualization**: LLaMA 3 can visualize ideas, making it an excellent choice for applications that require creative problem-solving.\n",
            "* **Nuanced Problem-Solving**: LLaMA 3 can solve nuanced problems, making it an ideal model for applications that require advanced critical thinking.\n",
            "\n",
            "**Applications of LLaMA 3**\n",
            "\n",
            "LLaMA 3 has a wide range of applications, including:\n",
            "\n",
            "* **Coding Tasks**: LLaMA 3 can be used for coding tasks, making it an excellent choice for developers and researchers.\n",
            "* **Problem-Solving**: LLaMA 3 can be used for problem-solving, making it suitable for applications that require advanced critical thinking.\n",
            "* **AI-Powered Applications**: LLaMA 3 can be used to build AI-powered applications, such as agents and other intelligent systems.\n",
            "\n",
            "**Meta AI: The Intelligent Assistant**\n",
            "\n",
            "LLaMA 3 has been integrated into Meta AI, an intelligent assistant that expands the ways people can get things done, create, and connect with Meta AI. Meta AI is available within Meta's family of apps and at meta.ai, allowing users to learn more, imagine anything, and get more things done.\n",
            "\n",
            "**Responsible Use**\n",
            "\n",
            "Like all LLMs, LLaMA 3 is a new technology that carries responsibilities. It is essential to use LLaMA 3 responsibly and ethically, fostering an environment of discovery and ethical AI advancements. This includes being aware of potential biases, ensuring transparency, and promoting fairness and accountability.\n",
            "\n",
            "**Points to Remember**\n",
            "\n",
            "* Meta's LLAMA models are a series of large language models designed to advance the field of artificial intelligence.\n",
            "* LLaMA 3 is the latest addition to the LLAMA family, capable of complex reasoning, following instructions, visualizing ideas, and solving nuanced problems.\n",
            "* LLaMA 3 has a wide range of applications, including coding tasks, problem-solving, and AI-powered applications.\n",
            "* Responsible use and ethical considerations are essential when working with LLaMA 3.\n",
            "\n",
            "**Quiz/Test**\n",
            "\n",
            "1. What is the primary purpose of Meta's LLAMA models?\n",
            "a) To advance the field of artificial intelligence\n",
            "b) To generate code\n",
            "c) To perform complex reasoning\n",
            "d) To visualize ideas\n",
            "\n",
            "Answer: a) To advance the field of artificial intelligence\n",
            "\n",
            "2. Which of the following is a key feature of LLaMA 3?\n",
            "a) Complex reasoning\n",
            "b) Instruction following\n",
            "c) Visualization\n",
            "d) All of the above\n",
            "\n",
            "Answer: d) All of the above\n",
            "\n",
            "**Assignment**\n",
            "\n",
            "Imagine you are a developer tasked with building an AI-powered application using LLaMA 3. Describe how you would use LLaMA 3 to solve a real-world problem, and discuss the potential benefits and challenges of using this technology.\n",
            "\n",
            "By incorporating visual aids, examples, and additional resources, this rewritten learning material provides a comprehensive overview of Meta's LLAMA models, highlighting their capabilities, applications, and responsible use. \n",
            "\n",
            "Research Info: [Document(page_content=\"In the coming months, we expect to introduce new capabilities, longer context windows, additional model sizes, and enhanced performance, and we'll share the Llama 3 research paper. Meta AI, built with Llama 3 technology, is now one of the world's leading AI assistants that can boost your intelligence and lighten your load—helping you ...\\nA better assistant: Thanks to our latest advances with Meta Llama 3, we believe Meta AI is now the most intelligent AI assistant you can use for free - and it's available in more countries across our apps to help you plan dinner based on what's in your fridge, study for your test and so much more. More info: You can use Meta AI in feed ...\\nLlama 3 is an accessible, open-source large language model (LLM) designed for developers, researchers, and businesses to build, experiment, and responsibly scale their generative AI ideas. Part of a foundational system, it serves as a bedrock for innovation in the global community. Meta Code LlamaLLM capable of generating code, and natural ...\\nWe've integrated Llama 3 into Meta AI, our intelligent assistant, that expands the ways people can get things done, create and connect with Meta AI. You can see first-hand the performance of Llama 3 by using Meta AI for coding tasks and problem solving.Whether you're developing agents, or other AI-powered applications, Llama 3 in both 8B and ...\\nLlama 2 was pretrained on publicly available online data sources. The fine-tuned model, Llama Chat, leverages publicly available instruction datasets and over 1 million human annotations. ... while fostering an environment of discovery and ethical AI advancements. Responsible use. Like all LLMs, Llama 2 is a new technology that carries ...\"), Document(page_content=\"UPDATE: We just launched Llama 2 - for more information on the latest see our blog post on Llama 2. As part of Meta's commitment to open science, today we are publicly releasing LLaMA (Large Language Model Meta AI), a state-of-the-art foundational large language model designed to help researchers advance their work in this subfield of AI. Smaller, more performant models such as LLaMA enable ...\\nMeta Llama 3 is our most advanced model to date, capable of complex reasoning, following instructions, visualizing ideas, and solving nuanced problems. Now available with both 8B and 70B pretrained and instruct versions to support a wide range of applications. Experience Meta Llama 3 on meta.ai.\\nWe've integrated Llama 3 into Meta AI, our intelligent assistant, that expands the ways people can get things done, create and connect with Meta AI. You can see first-hand the performance of Llama 3 by using Meta AI for coding tasks and problem solving.Whether you're developing agents, or other AI-powered applications, Llama 3 in both 8B and ...\\nLarge Language Model. A look at the early impact of Meta Llama 3. April 25, 2024. It's been just one week since we put Meta Llama 3 in the hands of the developer community, and the response so far has been awesome. With the release of our initial Llama 3 models, we wanted to kickstart the next wave of innovation in AI across the stack—from ...\\nBuilt on Meta Llama 3, our most advanced model to date, Meta AI is an intelligent assistant that is capable of complex reasoning, following instructions, visualizing ideas, and solving nuanced problems. Now available within our family of apps and at meta.ai, you can learn more, imagine anything and get more things done.\")] \n",
            "\n",
            "Feedback: **Quality Control Review**\n",
            "\n",
            "The provided learning material on Meta's LLAMA models is well-structured and informative. However, it lacks some essential sections to make it a comprehensive learning material. Here's a breakdown of the review:\n",
            "\n",
            "**Missing Sections:**\n",
            "\n",
            "1. **Introduction**: Although the \"Overview\" section serves as an introduction, it would be better to have a separate introduction that sets the context and importance of Meta's LLAMA models.\n",
            "2. **Points to Remember**: This section is crucial for reinforcing key takeaways from the learning material. It should summarize the main points in concise bullet points.\n",
            "3. **Quiz/Test**: A quiz or test section is essential to assess learners' understanding of the material. It can include multiple-choice questions, true/false questions, or short-answer questions.\n",
            "4. **Assignment**: An assignment section can provide learners with practical tasks to apply their knowledge, encouraging them to think critically and creatively.\n",
            "\n",
            "**Suggestions for Improvement:**\n",
            "\n",
            "1. **Add visual aids**: Incorporate diagrams, flowcharts, or images to illustrate the capabilities and applications of LLaMA 3, making the material more engaging and easier to understand.\n",
            "2. **Provide examples**: Include concrete examples of how LLaMA 3 can be used in real-world scenarios, making the material more relatable and practical.\n",
            "3. **Elaborate on responsible use**: Expand on the \"Responsible Use\" section to provide more guidance on ethical considerations and potential risks associated with LLaMA 3.\n",
            "4. **Include additional resources**: Provide learners with additional resources, such as links to tutorials, research papers, or online courses, to further their knowledge on Meta's LLAMA models.\n",
            "\n",
            "**Rewritten Learning Material:**\n",
            "\n",
            "To make the learning material more comprehensive, I suggest reorganizing the content into the following sections:\n",
            "\n",
            "1. **Introduction**: Set the context and importance of Meta's LLAMA models.\n",
            "2. **Overview**: Provide an overview of Meta's LLAMA models, including their history and evolution.\n",
            "3. **LLaMA 3: The Latest Advancements**: Describe the capabilities and features of LLaMA 3.\n",
            "4. **Key Features of LLaMA 3**: Highlight the key features of LLaMA 3, including complex reasoning, instruction following, visualization, and nuanced problem-solving.\n",
            "5. **Applications of LLaMA 3**: Discuss the various applications of LLaMA 3, including coding tasks, problem-solving, and AI-powered applications.\n",
            "6. **Meta AI: The Intelligent Assistant**: Introduce Meta AI and its integration with LLaMA 3.\n",
            "7. **Responsible Use**: Emphasize the importance of responsible use and ethical considerations when working with LLaMA 3.\n",
            "8. **Conclusion**: Summarize the key takeaways and importance of Meta's LLAMA models.\n",
            "9. **Points to Remember**: Summarize the main points in concise bullet points.\n",
            "10. **Quiz/Test**: Assess learners' understanding with a quiz or test section.\n",
            "11. **Assignment**: Provide learners with practical tasks to apply their knowledge.\n",
            "\n",
            "By incorporating these suggestions, the learning material can become more comprehensive, engaging, and effective in conveying the capabilities and applications of Meta's LLAMA models. \n",
            "\n",
            "Num Steps: 4 \n",
            "\n"
          ]
        }
      ]
    },
    {
      "cell_type": "code",
      "source": [],
      "metadata": {
        "id": "PHhfvc22EzZ8"
      },
      "execution_count": 23,
      "outputs": []
    }
  ]
}